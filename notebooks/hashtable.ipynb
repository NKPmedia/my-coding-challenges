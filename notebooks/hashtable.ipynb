{
 "cells": [
  {
   "cell_type": "markdown",
   "metadata": {},
   "source": [
    "# Hash Table"
   ]
  },
  {
   "cell_type": "markdown",
   "metadata": {},
   "source": [
    "The objective of this notebook is to discuss hash tables, which are commonly used in statistical natural language processing. When discussing hash tables, we are basically referring to dictionaries. The idea of a hash function is to translate arbitrary data into a numeric representation, which becomes convenient and useful for a variety of different purposes such as lookup tables (i.e. dictionaries). A hash Table is a set of key-value pairs with no keys being duplicated. It is also referred to as \"Dictionary\" or \"Hash Map\". There are three components of the Hash Table. First is the array, which is the data structure for storing the data. Secondly is the hash function as it converts the key into an array index. The third aspect is collision handling, where multiple key/value pairs maps to the same cell."
   ]
  },
  {
   "cell_type": "markdown",
   "metadata": {},
   "source": [
    "### Dictionary:\n",
    "\n",
    "The following code blocks walks through the basics of implementing a dictionary in python, which in essence is a hash table. First, we initialize an empty dictionary as such:"
   ]
  },
  {
   "cell_type": "code",
   "execution_count": null,
   "metadata": {
    "collapsed": true,
    "jupyter": {
     "outputs_hidden": true
    }
   },
   "outputs": [],
   "source": [
    "Dict = {} #Emptpy dictionary"
   ]
  },
  {
   "cell_type": "markdown",
   "metadata": {},
   "source": [
    "The dictionary is populated with the following structure: Dict['key'] = value. The string used to index the hash table \"Dict\" is termed as the \"key\". And to access the data stored in the hash table, the format is: dict['key_name']"
   ]
  },
  {
   "cell_type": "code",
   "execution_count": 33,
   "metadata": {
    "collapsed": false,
    "jupyter": {
     "outputs_hidden": false
    }
   },
   "outputs": [
    {
     "name": "stdout",
     "output_type": "stream",
     "text": [
      "Dictionary:\n",
      "{'A': 'Hello World', 'C': [1, 2, 3, 4], 'B': 25}\n",
      "\n",
      "The key is 'A', what is the value?\n",
      "Hello World\n"
     ]
    }
   ],
   "source": [
    "Dict['A'] = \"Hello World\"\n",
    "Dict['B'] = 25\n",
    "Dict['C'] = [1,2,3,4]\n",
    "\n",
    "print \"Dictionary:\"\n",
    "print Dict #print dictionary\n",
    "print \"\\nThe key is 'A', what is the value?\"\n",
    "print Dict['A'] #Access value given the key"
   ]
  },
  {
   "cell_type": "markdown",
   "metadata": {},
   "source": [
    "And if we wanted to loop through all the values or keys, we can use the following for loop. We can also loop through all of the keys/value pairs together:"
   ]
  },
  {
   "cell_type": "code",
   "execution_count": 34,
   "metadata": {
    "collapsed": false,
    "jupyter": {
     "outputs_hidden": false
    }
   },
   "outputs": [
    {
     "name": "stdout",
     "output_type": "stream",
     "text": [
      "All Keys:\n",
      "A\n",
      "C\n",
      "B\n",
      "\n",
      "All Values:\n",
      "Hello World\n",
      "[1, 2, 3, 4]\n",
      "25\n",
      "\n",
      "Key/Value Pairs:\n",
      "A : Hello World\n",
      "C : [1, 2, 3, 4]\n",
      "B : 25\n"
     ]
    }
   ],
   "source": [
    "#Loop through all the keys in the dictionary:\n",
    "print \"All Keys:\"\n",
    "for i in Dict.keys():\n",
    "    print i\n",
    "#Loop through all the values in the dictionary:   \n",
    "print \"\\nAll Values:\"\n",
    "for j in Dict.values():\n",
    "    print j\n",
    "    \n",
    "#Loop through all key/value pairs in the dictionary:    \n",
    "print \"\\nKey/Value Pairs:\"\n",
    "for k,v in Dict.items():\n",
    "    print k,':',v"
   ]
  },
  {
   "cell_type": "markdown",
   "metadata": {},
   "source": [
    "Now, suppose we have an array that contains our key and another array that contains the value of that key. How do we pair the two in a dictionary?"
   ]
  },
  {
   "cell_type": "code",
   "execution_count": 37,
   "metadata": {
    "collapsed": false,
    "jupyter": {
     "outputs_hidden": false
    }
   },
   "outputs": [
    {
     "name": "stdout",
     "output_type": "stream",
     "text": [
      "Hash Table: \n",
      "{'A': 'Hello World', 'C': [1, 2, 3, 4], 'B': 25}\n"
     ]
    }
   ],
   "source": [
    "key = ['A','B','C']\n",
    "value = [\"Hello World\",25,[1,2,3,4]]\n",
    "dic = {k:v for k,v in zip(key,value)} #Dictionary {}\n",
    "print \"Hash Table: \\n%s\" % dic "
   ]
  },
  {
   "cell_type": "markdown",
   "metadata": {},
   "source": [
    "### Hash Tables Explained\n",
    "\n",
    "Hash tables are a collection of items that are stored in a way that allows for easy access in finding the item by it's hash value. The \"slot\" is referred as the position where the item in the hash table is stored. The hash function maps and item and the slot where the corresponding item belongs in the hash table. The hash function will take any item in the collection and return an integer; each slot contains an item and is referenced by an integer, starting at 0 and goes to n-1. For numerical values, one hash function example is known as the \"remainder method\", `item % size = remainder`. This takes the item, say for example 25, and divides it by the size of the table (i.e. 4). Divide 25 by 4 equals 6.25. Therefore the remainder rounds up to 3 and thus will be the hash value for 25. Here's an example of a table size = 11 (i.e. 0-10) and the items corresponding hash value using the remainder method. Right away you may be thinking that this method only works if each item maps to a unique location in the hash table. For instance, if an item is added to the hash table and it's value is 31, well 33%11 = 0, but we already have an item with the hash value of 0. This is an instance known as \"collision\", which creates a problem for the hashing technique. This will be discussed in the following section.\n",
    "\n",
    "\n",
    "![Screen Shot 2016-08-11 at 3.38.40 PM.png](https://udacity-github-sync-content.s3.amazonaws.com/_imgs/26272/1470947930/Screen_Shot_2016-08-11_at_3.38.40_PM.png)\n",
    "\n",
    "\n",
    "We can create hash function in python for both character-based items (i.e. strings) or numerical values. Let's look at character-based items first. Suppose we have the string \"python\", we can use the function `ord()` to get the [ASCII](https://en.wikipedia.org/wiki/ASCII) value of each character. Implementing a \"for\" loop, we can add up the values of each char and use the remainder method to get a hash value. There are a number of additional ways to compute hash values for items in a given collection. Below is one example; note the usage of the positional value (i) as a weighting factor when computing the unique hash value. "
   ]
  },
  {
   "cell_type": "code",
   "execution_count": 29,
   "metadata": {
    "collapsed": false,
    "jupyter": {
     "outputs_hidden": false
    }
   },
   "outputs": [
    {
     "data": {
      "text/plain": [
       "98"
      ]
     },
     "execution_count": 29,
     "metadata": {},
     "output_type": "execute_result"
    }
   ],
   "source": [
    "#Characters:\n",
    "def hashing(string,size):\n",
    "    sum = 0\n",
    "    for i in range(len(string)):\n",
    "        sum = sum + ord(string[i])*(i+1)\n",
    "    return sum%size\n",
    "\n",
    "string = \"python\"\n",
    "size  = 100\n",
    "hashing(string,size)"
   ]
  },
  {
   "cell_type": "code",
   "execution_count": null,
   "metadata": {
    "collapsed": false,
    "jupyter": {
     "outputs_hidden": false
    }
   },
   "outputs": [],
   "source": [
    "#Integers:\n",
    "def hashing(integer,size):\n",
    "    sum = 0\n",
    "    for i in range(len(integer)):\n",
    "        sum = sum + i\n",
    "    return sum%size\n",
    "\n",
    "hashing(15692,10)"
   ]
  },
  {
   "cell_type": "markdown",
   "metadata": {},
   "source": [
    "### Hash Table Example \n",
    "\n",
    "In the following script, we will explore creating a hash table for a  fictitious group of students and their corresponding university they attend. The array length for this example will be 10. In reality, this would be much longer but the point here is to illustrate when a collision occurs. The following source utilized as a guide for creating the hash table can be found ['here'](https://www.youtube.com/watch?v=9HFbhPscPU0)."
   ]
  },
  {
   "cell_type": "code",
   "execution_count": 22,
   "metadata": {
    "collapsed": true,
    "jupyter": {
     "outputs_hidden": true
    }
   },
   "outputs": [],
   "source": [
    "#Initialize HashTable class:\n",
    "class HashTable:\n",
    "    \n",
    "    def __init__(self):\n",
    "        \n",
    "        self.size = 10 #set size of the array\n",
    "        \n",
    "        #initial set every cell to \"None\", force array to fixed length\n",
    "        self.map = [None] * self.size \n",
    "    \n",
    "    def _get_hash(self,key): #assigning index to place key/value in\n",
    "        hash = 0 #intialize to Zero\n",
    "        for char in key:\n",
    "            hash += ord(char)\n",
    "            #print hash [!debug]\n",
    "            #print hash % self.size [!debug]\n",
    "        return hash % self.size\n",
    "\n",
    "    def add_key_val(self,key,value):\n",
    "        key_hash = self._get_hash(key) # get index we are placing key/value in\n",
    "        key_value = [key,value] #key and value we want to assert in that cell\n",
    "\n",
    "        # check first if that cell is empty:\n",
    "        if self.map[key_hash] is None: #if contains None, it is empty\n",
    "            self.map[key_hash] = list([key_value])\n",
    "        else: # if the cell is not empty\n",
    "        #check if key is already existing and if so, we can just update the value\n",
    "            for pair in self.map[key_hash]: \n",
    "                if pair[0] == key:\n",
    "                    pair [1] == value\n",
    "                    return True\n",
    "            self.map[key_hash].append(key_value) #if not match, the create a new key\n",
    "        return True\n",
    "    \n",
    "    '''Next, get the hash given the key and locate the cell; if the cell is \n",
    "    not none then iterate through the pairs in the cell and find the value that matched\n",
    "    the key and return the value, if we don't find the key, return None'''\n",
    "    \n",
    "    def get_key_value(self,key):\n",
    "        key_hash = self._get_hash(key)\n",
    "        if self.map[key_hash] is not None:\n",
    "            for pair in self.map[key_hash]:\n",
    "                if pair[0] == key:\n",
    "                    return pair[1]\n",
    "                \n",
    "    def print_data(self):\n",
    "        print \"Students:\\n\"\n",
    "        for item in self.map:\n",
    "        #prints out every non None cell in the array\n",
    "            if item is not None:\n",
    "                print(str(item))\n",
    "                \n",
    "    def delete_entry(self,key):\n",
    "        key_hash = self._get_hash(key) #first locate key to get the index\n",
    "        #check if cell is none\n",
    "        if self.map[key_hash] is None:\n",
    "            return False # if False, key/value pair does not exist\n",
    "        #iterate through cells\n",
    "        for i in range(0, len(self.map[key_hash])):\n",
    "            if self.map[key_hash][i][0] == key:\n",
    "            #when locate the item you want to remove you \"pop\" the item for the list\n",
    "                self.map[key_hash].pop(i) \n",
    "                return True"
   ]
  },
  {
   "cell_type": "markdown",
   "metadata": {},
   "source": [
    "### Execute Hash Table"
   ]
  },
  {
   "cell_type": "code",
   "execution_count": 2,
   "metadata": {
    "collapsed": false,
    "jupyter": {
     "outputs_hidden": false
    },
    "scrolled": true
   },
   "outputs": [
    {
     "name": "stdout",
     "output_type": "stream",
     "text": [
      "Students:\n",
      "\n",
      "[['Jeremy', 'Kent State']]\n",
      "[['George', 'University of Miami']]\n",
      "[['Michelle', 'Louisiana State University']]\n",
      "[['Lindsay', 'Baylor University']]\n",
      "[['Trent', 'Texas A&M'], ['Lauren', 'University of Alabama'], ['Todd', 'Arizona State University'], ['Brittnay', 'Florida State University']]\n",
      "[['Brent', 'Rice University']]\n",
      "[['Allan', 'Southern Methodist University']]\n",
      "\n",
      "\n",
      "Students:\n",
      "\n",
      "[['Jeremy', 'Kent State']]\n",
      "[['George', 'University of Miami']]\n",
      "[['Michelle', 'Louisiana State University']]\n",
      "[['Lindsay', 'Baylor University']]\n",
      "[['Trent', 'Texas A&M'], ['Lauren', 'University of Alabama'], ['Brittnay', 'Florida State University']]\n",
      "[['Brent', 'Rice University']]\n",
      "[['Allan', 'Southern Methodist University']]\n",
      "\n",
      "\n",
      "Trent Attends the following university: Texas A&M\n"
     ]
    }
   ],
   "source": [
    "h = HashTable()\n",
    "\n",
    "h.add_key_val(\"Trent\",\"Texas A&M\")\n",
    "h.add_key_val(\"Lindsay\",\"Baylor University\")\n",
    "h.add_key_val(\"Michelle\",\"Louisiana State University\")\n",
    "h.add_key_val(\"Allan\",\"Southern Methodist University\")\n",
    "h.add_key_val(\"Brent\",\"Rice University\")\n",
    "h.add_key_val(\"Lauren\",\"University of Alabama\")\n",
    "h.add_key_val(\"Lauren\", \"Auburn University\")\n",
    "h.add_key_val(\"George\",\"University of Miami\")\n",
    "h.add_key_val(\"Todd\",\"Arizona State University\")\n",
    "h.add_key_val(\"Jeremy\", \"Kent State\")\n",
    "h.add_key_val(\"Brittnay\",\"Florida State University\")\n",
    "h.print_data()\n",
    "\n",
    "h.delete_entry('Todd')\n",
    "\n",
    "print \"\\n\"\n",
    "h.print_data()\n",
    "print \"\\n\"\n",
    "\n",
    "print \"Trent Attends the following university: %s\" % (h.get_key_value('Trent'))"
   ]
  }
 ],
 "metadata": {
  "kernelspec": {
   "display_name": "Python 2",
   "language": "python",
   "name": "python2"
  },
  "language_info": {
   "codemirror_mode": {
    "name": "ipython",
    "version": 2
   },
   "file_extension": ".py",
   "mimetype": "text/x-python",
   "name": "python",
   "nbconvert_exporter": "python",
   "pygments_lexer": "ipython2",
   "version": "2.7.11"
  }
 },
 "nbformat": 4,
 "nbformat_minor": 4
}
