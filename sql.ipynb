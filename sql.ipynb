{
 "cells": [
  {
   "cell_type": "markdown",
   "metadata": {},
   "source": [
    "## SQL Queries"
   ]
  },
  {
   "cell_type": "markdown",
   "metadata": {},
   "source": [
    "**Groupby**"
   ]
  },
  {
   "cell_type": "code",
   "execution_count": null,
   "metadata": {},
   "outputs": [],
   "source": [
    "\"\"\"\n",
    "SELECT * FROM table_name\n",
    "WHERE condition\n",
    "GROUP BY column_name(s)\n",
    "ORDER BY column_name(s);\n",
    "\"\"\""
   ]
  },
  {
   "cell_type": "markdown",
   "metadata": {},
   "source": [
    "**Nested Query**"
   ]
  },
  {
   "cell_type": "code",
   "execution_count": null,
   "metadata": {},
   "outputs": [],
   "source": [
    "\"\"\"\n",
    "SELECT customerid,\n",
    "       firstname,\n",
    "       lastname\n",
    "FROM customers\n",
    "WHERE supportId IN (\n",
    "      SELECT employeeid\n",
    "      FROM employees\n",
    "      WHERE country = 'Canada'\n",
    "       );"
   ]
  },
  {
   "cell_type": "code",
   "execution_count": null,
   "metadata": {},
   "outputs": [],
   "source": [
    "\"\"\"\n",
    "SELECT albumid,\n",
    "       title\n",
    "  FROM albums\n",
    " WHERE 10000000 > (\n",
    "                      SELECT sum(bytes) \n",
    "                        FROM tracks\n",
    "                       WHERE tracks.AlbumId = albums.AlbumId\n",
    "                  )\n",
    " ORDER BY title;\n",
    " \"\"\""
   ]
  },
  {
   "cell_type": "markdown",
   "metadata": {},
   "source": [
    "**Nested Query with IN Clause**"
   ]
  },
  {
   "cell_type": "code",
   "execution_count": null,
   "metadata": {},
   "outputs": [],
   "source": [
    "\"\"\"\n",
    "SELECT d.Name as Department, e.name as Employee, e.Salary \n",
    "FROM Employee AS e \n",
    "JOIN Department AS d ON e.DepartmentId = d.Id \n",
    "WHERE (e.DepartmentId, e.Salary) IN\n",
    "(SELECT DepartmentID, MAX(Salary)\n",
    "    FROM Employee\n",
    "    GROUP BY DepartmentID\n",
    ")\n",
    "\"\"\""
   ]
  },
  {
   "cell_type": "code",
   "execution_count": null,
   "metadata": {},
   "outputs": [],
   "source": []
  },
  {
   "cell_type": "markdown",
   "metadata": {},
   "source": [
    "**Delete Row**"
   ]
  },
  {
   "cell_type": "code",
   "execution_count": null,
   "metadata": {},
   "outputs": [],
   "source": [
    "\"\"\"\n",
    "DELETE FROM COMPANY\n",
    "   WHERE AGE IN (SELECT AGE FROM COMPANY_BKP\n",
    "   WHERE AGE > 27 );\n",
    "\"\"\""
   ]
  },
  {
   "cell_type": "markdown",
   "metadata": {},
   "source": [
    "**Update Table**"
   ]
  },
  {
   "cell_type": "code",
   "execution_count": null,
   "metadata": {},
   "outputs": [],
   "source": [
    "\"\"\"\n",
    "UPDATE COMPANY\n",
    "SET SALARY = SALARY * 0.50;\n",
    "\"\"\""
   ]
  },
  {
   "cell_type": "markdown",
   "metadata": {},
   "source": [
    "**Wildcards**"
   ]
  },
  {
   "cell_type": "code",
   "execution_count": null,
   "metadata": {},
   "outputs": [],
   "source": [
    "\"\"\"\n",
    "SELECT * FROM Customers WHERE City LIKE '%es%'\n",
    "\"\"\""
   ]
  },
  {
   "cell_type": "markdown",
   "metadata": {},
   "source": [
    "#### JOINS\n",
    "   - **INNER JOIN**: selects records that have matching values in both tables.\n",
    "\n",
    "   - **LEFT JOIN** returns all records from the left table (table1), and the matched records from the right table (table2). The result is NULL from the right side, if there is no match. \n",
    "\n",
    "   - **RIGHT JOIN** returns all records from the right table (table2), and the matched records from the left table (table1). The result is NULL from the left side, when there is no match.\n",
    "\n",
    "   - **OUTER JOIN** returns all records when there is a match in left (table1) or right (table2) table records.\n"
   ]
  }
 ],
 "metadata": {
  "kernelspec": {
   "display_name": "Python 3",
   "language": "python",
   "name": "python3"
  },
  "language_info": {
   "codemirror_mode": {
    "name": "ipython",
    "version": 3
   },
   "file_extension": ".py",
   "mimetype": "text/x-python",
   "name": "python",
   "nbconvert_exporter": "python",
   "pygments_lexer": "ipython3",
   "version": "3.8.0"
  }
 },
 "nbformat": 4,
 "nbformat_minor": 4
}
