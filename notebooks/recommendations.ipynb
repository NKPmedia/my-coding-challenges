{
 "cells": [
  {
   "cell_type": "markdown",
   "id": "f8b7bc5b-6cc7-4c21-bd93-e39b6811f0ac",
   "metadata": {},
   "source": [
    "# Recommendation Engines\n",
    "_____"
   ]
  },
  {
   "cell_type": "markdown",
   "id": "fc2fb43d-e88a-4187-bdca-aaa881625f8a",
   "metadata": {},
   "source": [
    "### Finding Similar Documents"
   ]
  },
  {
   "cell_type": "code",
   "execution_count": null,
   "id": "91b815a4-ec69-4070-bdb1-01816cedfe4d",
   "metadata": {},
   "outputs": [],
   "source": [
    "# Create the Document Term Matrix\n",
    "count_vectorizer = CountVectorizer(stop_words='english')\n",
    "count_vectorizer = CountVectorizer() # or TFIDF \n",
    "sparse_matrix = count_vectorizer.fit_transform(documents)\n",
    "\n",
    "# OPTIONAL: Convert Sparse Matrix to Pandas Dataframe if you want to see the word frequencies.\n",
    "doc_term_matrix = sparse_matrix.todense()\n",
    "df = pd.DataFrame(doc_term_matrix, \n",
    "                  columns=count_vectorizer.get_feature_names(), \n",
    "                  index=['doc_trump', 'doc_election', 'doc_putin'])\n",
    "\n",
    "from sklearn.metrics.pairwise import cosine_similarity\n",
    "print(cosine_similarity(df, df))"
   ]
  },
  {
   "cell_type": "markdown",
   "id": "15cad107-b7e6-430e-902b-046d81c84cd3",
   "metadata": {},
   "source": [
    "### Implicit Data Example - Using Cosine Similarity"
   ]
  },
  {
   "cell_type": "code",
   "execution_count": null,
   "id": "c880408c-bcdf-4d48-aa2c-cd95b0dc575c",
   "metadata": {},
   "outputs": [],
   "source": [
    "def build_user_item_matrix(max_users: str, item: str) -> None:\n",
    "        \"\"\"Build User/Item Interaction Matrix\"\"\"\n",
    "        matrix = np.zeros(shape=(max_users, max(self.data[item])))\n",
    "        for _, row in self.data.iterrows():\n",
    "            matrix[row[\"user_handle\"] - 1, row[item] - 1] = 1\n",
    "        return matrix\n",
    "\n",
    "def get_user_item_matrix(max_users: int, features: List[str]):\n",
    "    \"\"\"Concatenate Features into One User-Items Matrix\"\"\"\n",
    "    results = []\n",
    "    for item in features:\n",
    "        results.append(self.build_user_item_matrix(max_users, item))\n",
    "    matrix = np.hstack(results)\n",
    "    return matrix\n",
    "\n",
    "def _truncatedSVD(self, threshold: float = 0.90) -> np.ndarray:\n",
    "    \"\"\"Apply Truncated SVD to Explain 'n'% of total variance\"\"\"\n",
    "    n_components = 2  # minimum components to begin\n",
    "    ex_var = 0\n",
    "    while ex_var < threshold:\n",
    "        pc = TruncatedSVD(n_components=n_components)\n",
    "        pc.fit_transform(self.matrix)\n",
    "        ex_var = np.sum(pc.explained_variance_ratio_)\n",
    "        n_components += 1\n",
    "    logging.info(\n",
    "        f\"Total components {pc.n_components} with {ex_var:0.2f} variance explained\"\n",
    "    )\n",
    "    self.matrix= pc.transform(self.matrix)\n",
    "\n",
    "def compute_similarity(self, metric: str = \"cosine\") -> np.ndarray:\n",
    "    \"\"\"Compute Similarity Matrix\"\"\"\n",
    "    score = pairwise_distances(self.matrix, metric=metric)\n",
    "    if metric == \"cosine\":\n",
    "        return 1 - score\n",
    "    return score"
   ]
  },
  {
   "cell_type": "markdown",
   "id": "9452acb9-33aa-40d4-a432-f2a37425e52b",
   "metadata": {},
   "source": [
    "### Rank users"
   ]
  },
  {
   "cell_type": "code",
   "execution_count": null,
   "id": "47b61e21-6912-42f9-b2a0-91187f6dbca6",
   "metadata": {},
   "outputs": [],
   "source": [
    "def custom_udf(X):\n",
    "    \"\"\"\n",
    "    Custom Pandas function for using index/score to\n",
    "    generate output results dataframe.\n",
    "    \"\"\"\n",
    "    idx = np.argsort(X.values, axis=0)[::-1][1 : top_n + 1]\n",
    "    return [\n",
    "        str({\"user\": i, \"score\": X.astype(float).round(4).values[i]}) for i in idx\n",
    "    ]\n",
    "\n",
    "ranking = X.apply(custom_udf).T\n",
    "ranking.columns = [f\"{i+1}\" for i in ranking.columns]"
   ]
  }
 ],
 "metadata": {
  "kernelspec": {
   "display_name": "Python 3 (ipykernel)",
   "language": "python",
   "name": "python3"
  },
  "language_info": {
   "codemirror_mode": {
    "name": "ipython",
    "version": 3
   },
   "file_extension": ".py",
   "mimetype": "text/x-python",
   "name": "python",
   "nbconvert_exporter": "python",
   "pygments_lexer": "ipython3",
   "version": "3.8.1"
  }
 },
 "nbformat": 4,
 "nbformat_minor": 5
}
