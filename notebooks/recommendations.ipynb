{
 "cells": [
  {
   "cell_type": "markdown",
   "id": "f8b7bc5b-6cc7-4c21-bd93-e39b6811f0ac",
   "metadata": {},
   "source": [
    "# Recommendation Engines\n",
    "_____"
   ]
  },
  {
   "cell_type": "markdown",
   "id": "fc2fb43d-e88a-4187-bdca-aaa881625f8a",
   "metadata": {},
   "source": [
    "### Finding Similar Documents"
   ]
  },
  {
   "cell_type": "code",
   "execution_count": null,
   "id": "91b815a4-ec69-4070-bdb1-01816cedfe4d",
   "metadata": {},
   "outputs": [],
   "source": [
    "# Create the Document Term Matrix\n",
    "count_vectorizer = CountVectorizer(stop_words='english')\n",
    "count_vectorizer = CountVectorizer() # or TFIDF \n",
    "sparse_matrix = count_vectorizer.fit_transform(documents)\n",
    "\n",
    "# OPTIONAL: Convert Sparse Matrix to Pandas Dataframe if you want to see the word frequencies.\n",
    "doc_term_matrix = sparse_matrix.todense()\n",
    "df = pd.DataFrame(doc_term_matrix, \n",
    "                  columns=count_vectorizer.get_feature_names(), \n",
    "                  index=['doc_trump', 'doc_election', 'doc_putin'])\n",
    "\n",
    "from sklearn.metrics.pairwise import cosine_similarity\n",
    "print(cosine_similarity(df, df))"
   ]
  },
  {
   "cell_type": "markdown",
   "id": "15cad107-b7e6-430e-902b-046d81c84cd3",
   "metadata": {},
   "source": [
    "### Build User/Item Interactions DataFrame"
   ]
  },
  {
   "cell_type": "code",
   "execution_count": null,
   "id": "0d64b14a-8bc9-4526-ba84-5bec03236984",
   "metadata": {},
   "outputs": [],
   "source": [
    "def build_user_item_matrix(max_users: str, item: str) -> None:\n",
    "        \"\"\"Build User/Item Interaction Matrix\"\"\"\n",
    "        matrix = np.zeros(shape=(max_users, max(self.data[item])))\n",
    "        for _, row in self.data.iterrows():\n",
    "            matrix[row[\"user_handle\"] - 1, row[item] - 1] = 1\n",
    "        return matrix"
   ]
  },
  {
   "cell_type": "code",
   "execution_count": null,
   "id": "c069abad-b6b5-404b-b8dc-139999c323ca",
   "metadata": {},
   "outputs": [],
   "source": [
    "# Option 2\n",
    "def user_item_matrix(data:pd.DataFrame):\n",
    "    \"\"\" Generate User/Item Matrix\"\"\"\n",
    "    user_item_matrix = data.pivot_table(index='user_id', columns='item_id', values='rating')\n",
    "    print('Shape User-Courses-Matrix:\\t{}'.format(user_item_matrix.shape))\n",
    "    return user_item_matrix\n",
    "    \n",
    "user_item_train = user_item_matrix(train)"
   ]
  }
 ],
 "metadata": {
  "kernelspec": {
   "display_name": "Python 3 (ipykernel)",
   "language": "python",
   "name": "python3"
  },
  "language_info": {
   "codemirror_mode": {
    "name": "ipython",
    "version": 3
   },
   "file_extension": ".py",
   "mimetype": "text/x-python",
   "name": "python",
   "nbconvert_exporter": "python",
   "pygments_lexer": "ipython3",
   "version": "3.8.1"
  }
 },
 "nbformat": 4,
 "nbformat_minor": 5
}
