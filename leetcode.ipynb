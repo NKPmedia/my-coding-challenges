{
 "cells": [
  {
   "cell_type": "markdown",
   "metadata": {},
   "source": [
    "# Leetcode\n",
    "\n",
    "This notebook provides examples written in Python various [Leetcode](https://leetcode.com/) problems covering the following: \n",
    "\n",
    "- <a href='#Arrays'>Arrays</a>\n",
    "- <a href='#Trees'>Binary Trees</a>\n",
    "- <a href='#DynamicProgramming'>Dynamic Programming</a>\n",
    "- <a href='#Hashmap'>Hashmap</a>\n",
    "- <a href='#LinkedList'>Linked List</a>\n",
    "- <a href='#Matrix'>Matrix</a>\n",
    "- <a href='#Queue'>Queue</a>\n",
    "- <a href='#Sort'>Sort</a>\n",
    "- <a href='#Stack'>Stack</a>\n",
    "- <a href='#Strings'>Strings</a>\n"
   ]
  },
  {
   "cell_type": "code",
   "execution_count": 37,
   "metadata": {},
   "outputs": [],
   "source": [
    "%load_ext autoreload"
   ]
  },
  {
   "cell_type": "markdown",
   "metadata": {},
   "source": [
    "____\n",
    "# DynamicProgramming"
   ]
  },
  {
   "cell_type": "code",
   "execution_count": 69,
   "metadata": {},
   "outputs": [],
   "source": [
    "%autoreload\n",
    "from src.dynamic import *"
   ]
  },
  {
   "cell_type": "markdown",
   "metadata": {},
   "source": [
    "## Max Contiguous Subarray Sum\n",
    "\n",
    "Given an array with integers, return the sum of the subarray with the largest sum. A `subarray` is a subset of the original array that is contiguous and maintains the sequence of all elements from the original array.\n",
    "\n",
    "**Example**\n",
    "\n",
    "```\n",
    "Input: [-2, 1, -3, 4, -1, 2, 1, -5, 4]\n",
    "Output: 6\n",
    "Explanation: The maximum sum subarray goes from index 3 to index 6 with a total sum of 6.\n",
    "```\n",
    "\n",
    "[Solution Reference](https://www.youtube.com/watch?v=2MmGzdiKR9Y)\n",
    "\n",
    "### Steps\n",
    "\n",
    "- Default to say the the best maximum seen so far is the first element.\n",
    "- Also default to say the the best max ending at the first element is the first element.\n",
    "- We are inspecting the item at index i and want to answer the question:\n",
    "    - \"What is the Max Contiguous Subarray Sum we can achieve ending at index i?\"\n",
    "        - 1. **maxEndingHere + nums[i]** \n",
    "            - Extend the previous subarray best whatever value it was\n",
    "            - Let the item we are sitting at contribute to this best max we achieved ending at index i - 1.\n",
    "        - 2. **nums[i]** \n",
    "            - start and end at this index\n",
    "            - Just take the item we are sitting at's value.\n",
    "- The `max` of these 2 choices will be the best answer to the Max Contiguous Subarray Sum we can achieve for subarrays ending at index i.\n",
    "        \n",
    "**Example**\n",
    "```\n",
    "index     0  1   2  3   4  5  6   7  8\n",
    "Input: [ -2, 1, -3, 4, -1, 2, 1, -5, 4 ]\n",
    "Answer   -2, 1, -2, 4,  3, 5, 6,  1, 5   \n",
    "```\n",
    "            \n",
    "**Explanation**\n",
    "\n",
    "```\n",
    "index 0: [ -2 ]                 (index 0 to index 0)\n",
    "index 1: [ 1 ]                  (index 1 to index 1) [array ended at index 1]\n",
    "index 2: [ 1, -3 ]              (index 1 to index 2)\n",
    "index 3: [ 4 ]                  (index 3 to index 3) [array ended at index 3]\n",
    "index 4: [ 4, -1 ]              (index 3 to index 4)\n",
    "index 5: [ 4, -1, 2 ]           (index 3 to index 5)\n",
    "index 6: [ 4, -1, 2, 1 ]        (index 3 to index 6)\n",
    "index 7: [ 4, -1, 2, 1, -5 ]    (index 3 to index 7)\n",
    "index 8: [ 4, -1, 2, 1, -5, 4 ] (index 3 to index 8)\n",
    "```\n",
    "    \n",
    "- Notice how we are changing the end bound by 1 everytime."
   ]
  },
  {
   "cell_type": "code",
   "execution_count": 79,
   "metadata": {},
   "outputs": [
    {
     "data": {
      "text/plain": [
       "6"
      ]
     },
     "execution_count": 79,
     "metadata": {},
     "output_type": "execute_result"
    }
   ],
   "source": [
    "def maxSubarraySum(nums:List[int]):\n",
    "    max_so_far,max_ending_here = nums[0],nums[0]\n",
    "    for i in range(len(nums)-1):\n",
    "        \n",
    "        # max(start new subarray, continue subarray)\n",
    "        max_ending_here = max(nums[i],max_ending_here + nums[i])\n",
    "        \n",
    "        # Did we beat the 'maxSoFar' with the 'maxEndingHere'?\n",
    "        max_so_far = max(max_ending_here,max_so_far)\n",
    "    return max_so_far\n",
    "\n",
    "nums = [-2,1,-3,4,-1,2,1,-5,4]\n",
    "maxSubarraySum(nums)"
   ]
  },
  {
   "cell_type": "markdown",
   "metadata": {},
   "source": [
    "## Coin Change\n",
    "\n",
    "Link: https://leetcode.com/problems/coin-change/\n",
    "\n",
    "You are given coins of different denominations and a total amount of money amount. Write a function to compute the fewest number of coins that you need to make up that amount. If that amount of money cannot be made up by any combination of the coins, return -1.\n",
    "\n",
    "You may assume that you have an infinite number of each kind of coin.\n",
    "\n",
    "\n",
    "Example 1:\n",
    "\n",
    "```\n",
    "Input: coins = [1,2,5], amount = 11\n",
    "Output: 3\n",
    "Explanation: 11 = 5 + 5 + 1\n",
    "Example 2:\n",
    "```\n",
    "\n",
    "```\n",
    "Input: coins = [2], amount = 3\n",
    "Output: -1\n",
    "Example 3:\n",
    "Explanation: We cannot make change for 3 with only a 2 coin.\n",
    "```\n",
    "\n",
    "```\n",
    "Input: coins = [1], amount = 0\n",
    "Output: 0\n",
    "Example 4:\n",
    "```\n",
    "\n",
    "```\n",
    "Input: coins = [1], amount = 1\n",
    "Output: 1\n",
    "Example 5:\n",
    "```\n",
    "\n",
    "```\n",
    "Input: coins = [1], amount = 2\n",
    "Output: 2\n",
    "```\n",
    "\n",
    "[Solution Reference](https://www.youtube.com/watch?v=jgiZlGzXMBw&t=828s)\n",
    "\n",
    "**Bottom up approach using dynamic programming**\n",
    "\n",
    "To explain, first we create an array that is called `stack` in the code to keep track of the minimum ways to make change for each element, where each element in this array of length(amount) is initially set as a placeholder (amount +1 ). The goal is to visit all indicies in the amount array (e.g. [1,2,3,4,....A]) and then look at all of the subproblems before the current index to determine what is the minimum number of coins we could use. Note, if we are using coins [1,2,5] to make change for `11`, then for example, we can only use coins [1,2] at `amount=4`. "
   ]
  },
  {
   "cell_type": "code",
   "execution_count": 70,
   "metadata": {},
   "outputs": [
    {
     "data": {
      "text/plain": [
       "3"
      ]
     },
     "execution_count": 70,
     "metadata": {},
     "output_type": "execute_result"
    }
   ],
   "source": [
    "coinChange(coins=[1,2,5],amount=11)"
   ]
  },
  {
   "cell_type": "markdown",
   "metadata": {},
   "source": [
    "## Twitter | OA 2019 | University Career Fair\n",
    "\n",
    "Sam is part of the organizing team arranging the university's career fair and has a list of companies and their respective arrival times and durations. Due to the university-wide budget cuts, there is only one stage available on the entire campus so only one event can occur at a time. Given each company's arrival time and the duration they will stay, determine the max number of events that can be hosted during the fair.\n",
    "\n",
    "For example, there are `n=5` companies that will arrive at times `arrival = [1,3,3,5,7]` and will stay for `duration = [2,2,1,2,1]`. The first company arrives at `time=1` and stays for `2 hours`. At `time=3`, two companies arrive, but only 1 can stay for either `1` or `2` hours. The next companies arrive at `time=5` and `time=7` and do not conflict with each other. In total, there can be a max of `4` events. \n",
    "\n",
    "Complete the `maxEvents` function below. It must return an integer with the max number of events that can be hosted. `maxEvents` has the following inputs:\n",
    "\n",
    "- `arrival[arrival[0]....arrival[n-1]]`: an array of ints where ith element is the arrival time of the ith company.\n",
    "- `duration[duration[0]...duration[n-1]]`: an array of the integers where ith element is the duration that the ith company stays at the career fair. \n",
    "\n",
    "[Reference Link](https://leetcode.com/discuss/interview-question/374846/Twitter-or-OA-2019-or-University-Career-Fair)\n"
   ]
  },
  {
   "cell_type": "markdown",
   "metadata": {},
   "source": [
    "### Example\n",
    "\n",
    "```\n",
    "1:00 [-------------] 3:00 COMPANY A\n",
    "              3:00 [-------] 4:00 COMPANY B\n",
    "              3:00 [-------------] 5:00 COMPANY C\n",
    "                            5:00 [-------------] 7:00 COMPANY D\n",
    "                                          7:00 [-------------] 8:00 COMPANY E\n",
    "```"
   ]
  },
  {
   "cell_type": "code",
   "execution_count": 6,
   "metadata": {},
   "outputs": [
    {
     "data": {
      "text/plain": [
       "4"
      ]
     },
     "execution_count": 6,
     "metadata": {},
     "output_type": "execute_result"
    }
   ],
   "source": [
    "universityCareerFair([1, 3, 3, 5, 7], [2, 2, 1, 2, 1])"
   ]
  },
  {
   "cell_type": "markdown",
   "metadata": {},
   "source": [
    "## Climbing Stairs\n",
    "\n",
    "You are climbing a staircase. It takes n steps to reach the top. Each time you can either climb 1 or 2 steps. In how many distinct ways can you climb to the top?\n",
    "\n",
    "**Example 1:**\n",
    "\n",
    "```\n",
    "Input: n = 2\n",
    "Output: 2\n",
    "Explanation: There are two ways to climb to the top.\n",
    "1. 1 step + 1 step\n",
    "2. 2 steps\n",
    "```\n",
    "\n",
    "**Example 2:**\n",
    "\n",
    "```Input: n = 3\n",
    "Output: 3\n",
    "Explanation: There are three ways to climb to the top.\n",
    "1. 1 step + 1 step + 1 step\n",
    "2. 1 step + 2 steps\n",
    "3. 2 steps + 1 step\n",
    "```\n",
    "\n",
    "**Example 3:**\n",
    "\n",
    "```Input: n = 4\n",
    "Output: 4\n",
    "Explanation: There are three ways to climb to the top.\n",
    "1. 1 step + 1 step + 1 step + 1 step\n",
    "2. 1 step + 1 steps + 2 steps\n",
    "3. 2 steps + 1 step + 1 step\n",
    "4. 1 step + 2 step + 1 step\n",
    "5. 2 steps + 2 steps\n",
    "```"
   ]
  },
  {
   "cell_type": "markdown",
   "metadata": {},
   "source": [
    "### Explanation\n",
    "\n",
    "![](images/climbstairs.png)\n",
    "\n",
    "[Reference](https://www.youtube.com/watch?v=NFJ3m9a1oJQ)"
   ]
  },
  {
   "cell_type": "code",
   "execution_count": 10,
   "metadata": {},
   "outputs": [
    {
     "data": {
      "text/plain": [
       "13"
      ]
     },
     "execution_count": 10,
     "metadata": {},
     "output_type": "execute_result"
    }
   ],
   "source": [
    "climbStairs(n=6)"
   ]
  },
  {
   "cell_type": "markdown",
   "metadata": {},
   "source": [
    "____\n",
    "# Trees"
   ]
  },
  {
   "cell_type": "markdown",
   "metadata": {},
   "source": [
    "### Pre-order, In-order, and Post-order Traversals:\n",
    "\n",
    "- Example tree:\n",
    "\n",
    "```\n",
    "         _10_\n",
    "        /     \\\n",
    "       7      11\n",
    "     /  \\      \\\n",
    "    6   8       20\n",
    "   /    \\     /   \\\n",
    "   1    9     14   22\n",
    "```\n",
    "    \n",
    "- Pre-order:  [10, 7, 6, 1, 8, 9, 11, 20, 14, 22]\n",
    "- In-order:   [1, 6, 7, 8, 9, 10, 11, 14, 20, 22]\n",
    "- Post-order: [1, 6, 9, 8, 7, 14, 22, 20, 11, 10]"
   ]
  },
  {
   "cell_type": "markdown",
   "metadata": {},
   "source": [
    "_____\n",
    "# Stack\n",
    "\n",
    "**Note:** is a linear data structure which follows a particular order in which the operations are performed. The order may be LIFO(Last In First Out)"
   ]
  },
  {
   "cell_type": "code",
   "execution_count": 72,
   "metadata": {},
   "outputs": [],
   "source": [
    "%autoreload\n",
    "from src.stacks import *"
   ]
  },
  {
   "cell_type": "markdown",
   "metadata": {},
   "source": [
    "## Daily Temperatures\n",
    "\n",
    "Link: https://leetcode.com/problems/daily-temperatures/\n",
    "\n",
    "Given a list of daily temperatures T, return a list such that, for each day in the input, tells you how many days you would have to wait until a warmer temperature. If there is no future day for which this is possible, put 0 instead.\n",
    "\n",
    "For example, given the list of temperatures \n",
    "\n",
    "```\n",
    "T = [73, 74, 75, 71, 69, 72, 76, 73]\n",
    "```\n",
    "\n",
    "Output should be:\n",
    "\n",
    "```\n",
    "[1, 1, 4, 2, 1, 1, 0, 0]\n",
    "```\n",
    "\n",
    "Note: The length of temperatures will be in the range [1, 30000]. Each temperature will be an integer in the range [30, 100]."
   ]
  },
  {
   "cell_type": "code",
   "execution_count": null,
   "metadata": {},
   "outputs": [],
   "source": [
    "temps = [73, 74, 75, 71, 69, 72, 76, 73]\n",
    "dailyTemperatures(temps)"
   ]
  },
  {
   "cell_type": "markdown",
   "metadata": {},
   "source": [
    "## Verify Preorder Serialization of a Binary Tree\n",
    "Reference https://leetcode.com/problems/verify-preorder-serialization-of-a-binary-tree/\n",
    "\n",
    "One way to serialize a binary tree is to use pre-order traversal. When we encounter a non-null node, we record the node's value. \n",
    "If it is a null node, we record using a sentinel value such as #.\n",
    "\n",
    "**Example:**\n",
    "\n",
    "```\n",
    "     _9_\n",
    "    /   \\\n",
    "   3     2\n",
    "  / \\   / \\\n",
    " 4   1  #  6\n",
    "/ \\ / \\   / \\\n",
    "# # # #   # #\n",
    "```\n",
    "\n",
    "For example, the above binary tree can be serialized to the string \"9,3,4,#,#,1,#,#,2,#,6,#,#\", where # represents a null node.\n",
    "\n",
    "Given a string of comma separated values, verify whether it is a correct preorder traversal serialization of a binary tree. Find an algorithm without reconstructing the tree.\n",
    "\n",
    "Each comma separated value in the string must be either an integer or a character '#' representing null pointer.\n",
    "\n",
    "You may assume that the input format is always valid, for example it could never contain two consecutive commas such as \"1,,3\".\n",
    "\n",
    "**Example**:\n",
    "```\n",
    "  _3_    \n",
    "  / \\   \n",
    " 4   1  \n",
    "/ \\ / \\   \n",
    "# # # #   \n",
    "```"
   ]
  },
  {
   "cell_type": "code",
   "execution_count": 73,
   "metadata": {},
   "outputs": [
    {
     "name": "stdout",
     "output_type": "stream",
     "text": [
      "[]\n",
      "['3']\n",
      "['3', '4']\n",
      "['3', '4', '#']\n",
      "['3', '#']\n",
      "['3', '#', '1']\n",
      "['3', '#', '1', '#']\n"
     ]
    },
    {
     "data": {
      "text/plain": [
       "True"
      ]
     },
     "execution_count": 73,
     "metadata": {},
     "output_type": "execute_result"
    }
   ],
   "source": [
    "n = \"3,4,#,#,1,#,#\"\n",
    "isValidSerialization(n)"
   ]
  },
  {
   "cell_type": "markdown",
   "metadata": {},
   "source": [
    "___\n",
    "# Queue\n",
    "\n",
    "**Note:** A queue is a linear structure which follows a particular order in which the operations are performed. The order is First In First Out (FIFO)"
   ]
  },
  {
   "cell_type": "code",
   "execution_count": 59,
   "metadata": {},
   "outputs": [],
   "source": [
    "%autoreload\n",
    "from src.queue import *"
   ]
  },
  {
   "cell_type": "markdown",
   "metadata": {},
   "source": [
    "## Rotate String\n",
    "\n",
    "Link: https://leetcode.com/problems/rotate-string/\n",
    "    \n",
    "We are given two strings, A and B.\n",
    "\n",
    "A shift on A consists of taking string A and moving the leftmost character to the rightmost position. For example, if A = 'abcde', then it will be 'bcdea' after one shift on A. Return True if and only if A can become B after some number of shifts on A.\n",
    "\n",
    "Example 1:\n",
    "```\n",
    "Input: A = 'abcde', B = 'cdeab'\n",
    "Output: true\n",
    "```\n",
    "\n",
    "Example 2:\n",
    "```\n",
    "Input: A = 'abcde', B = 'abced'\n",
    "Output: false\n",
    "```\n",
    "Note: A and B will have length at most 100."
   ]
  },
  {
   "cell_type": "code",
   "execution_count": 61,
   "metadata": {},
   "outputs": [
    {
     "data": {
      "text/plain": [
       "True"
      ]
     },
     "execution_count": 61,
     "metadata": {},
     "output_type": "execute_result"
    }
   ],
   "source": [
    "A = 'abcde'\n",
    "B = 'cdeab'\n",
    "rotateString(A,B)"
   ]
  },
  {
   "cell_type": "markdown",
   "metadata": {},
   "source": [
    "_____\n",
    "# Arrays"
   ]
  },
  {
   "cell_type": "code",
   "execution_count": 39,
   "metadata": {},
   "outputs": [],
   "source": [
    "%autoreload\n",
    "from src.arrays import *"
   ]
  },
  {
   "cell_type": "markdown",
   "metadata": {},
   "source": [
    "## Merge Intervals\n",
    "\n",
    "Link: https://leetcode.com/problems/merge-intervals/\n",
    "\n",
    "Given an array of intervals where intervals[i] = [starti, endi], merge all overlapping intervals, and return an array of the non-overlapping intervals that cover all the intervals in the input.\n",
    "\n",
    "Example 1:\n",
    "\n",
    "```\n",
    "Input: intervals = [[1,3],[2,6],[8,10],[15,18]]\n",
    "Output: [[1,6],[8,10],[15,18]]\n",
    "Explanation: Since intervals [1,3] and [2,6] overlaps, merge them into [1,6].\n",
    "```\n",
    "\n",
    "Example 2:\n",
    "\n",
    "```\n",
    "Input: intervals = [[1,4],[4,5]]\n",
    "Output: [[1,5]]\n",
    "Explanation: Intervals [1,4] and [4,5] are considered overlapping.\n",
    "```"
   ]
  },
  {
   "cell_type": "code",
   "execution_count": 40,
   "metadata": {},
   "outputs": [
    {
     "data": {
      "text/plain": [
       "[[1, 4]]"
      ]
     },
     "execution_count": 40,
     "metadata": {},
     "output_type": "execute_result"
    }
   ],
   "source": [
    "intervals = [[1,4],[2,3]]\n",
    "merge(intervals)"
   ]
  },
  {
   "cell_type": "markdown",
   "metadata": {},
   "source": [
    "## Running Sum of 1d Array\n",
    "\n",
    "Link: https://leetcode.com/problems/running-sum-of-1d-array/\n",
    "\n",
    "Given an array nums. We define a running sum of an array as runningSum[i] = sum(nums[0]…nums[i]). Return the running sum of nums.\n",
    "\n",
    "```\n",
    "Input: nums = [1,2,3,4]\n",
    "Output: [1,3,6,10]\n",
    "Explanation: Running sum is obtained as follows: [1, 1+2, 1+2+3, 1+2+3+4].\n",
    "```"
   ]
  },
  {
   "cell_type": "code",
   "execution_count": 12,
   "metadata": {},
   "outputs": [
    {
     "data": {
      "text/plain": [
       "[1, 3, 6, 10]"
      ]
     },
     "execution_count": 12,
     "metadata": {},
     "output_type": "execute_result"
    }
   ],
   "source": [
    "runningSum([1,2,3,4])"
   ]
  },
  {
   "cell_type": "markdown",
   "metadata": {},
   "source": [
    "____\n",
    "## Single Number\n",
    "\n",
    "Link: https://leetcode.com/problems/single-number/\n",
    "\n",
    "Given a non-empty array of integers, every element appears twice except for one. Find that single one. Note: Your algorithm should have a linear runtime complexity. Could you implement it without using extra memory?\n",
    "\n",
    "```\n",
    "Input: [2,2,1]\n",
    "Output: 1\n",
    "```"
   ]
  },
  {
   "cell_type": "code",
   "execution_count": 13,
   "metadata": {},
   "outputs": [
    {
     "data": {
      "text/plain": [
       "1"
      ]
     },
     "execution_count": 13,
     "metadata": {},
     "output_type": "execute_result"
    }
   ],
   "source": [
    "%autoreload\n",
    "singleNumber([2,2,1])"
   ]
  },
  {
   "cell_type": "markdown",
   "metadata": {},
   "source": [
    "## Two Sum\n",
    "\n",
    "Link: https://leetcode.com/problems/two-sum/\n",
    "\n",
    "Given an array of integers nums and and integer target, return the indices of the two numbers such that they add up to target. You may assume that each input would have exactly one solution, and you may not use the same element twice. You can return the answer in any order.\n",
    "\n",
    "```\n",
    "Input: nums = [2,7,11,15], target = 9\n",
    "Output: [0,1]\n",
    "Output: Because nums[0] + nums[1] == 9, we return [0, 1]\n",
    "```"
   ]
  },
  {
   "cell_type": "markdown",
   "metadata": {},
   "source": [
    "## Max Contiguous Subarray Sum\n",
    "\n",
    "Link: https://leetcode.com/problems/maximum-subarray/\n",
    "\n",
    "\n",
    "Given an integer array nums, find the contiguous subarray (containing at least one number) which has the largest sum and return its sum.\n",
    "\n",
    "```\n",
    "Input: [-2,1,-3,4,-1,2,1,-5,4],\n",
    "Output: 6\n",
    "Explanation: [4,-1,2,1] has the largest sum = 6.\n",
    "```\n",
    "\n",
    "**Note:**Solution below is a brute force implementation with O(n^2) complexity. See a similar problem in the `dynamic programming` section using in O(n)."
   ]
  },
  {
   "cell_type": "code",
   "execution_count": 14,
   "metadata": {},
   "outputs": [
    {
     "data": {
      "text/plain": [
       "6"
      ]
     },
     "execution_count": 14,
     "metadata": {},
     "output_type": "execute_result"
    }
   ],
   "source": [
    "maxSubArray_1([-2,1,-3,4,-1,2,1,-5,4])"
   ]
  },
  {
   "cell_type": "markdown",
   "metadata": {},
   "source": [
    "## Shuffle the Array\n",
    "\n",
    "Link: https://leetcode.com/problems/shuffle-the-array/\n",
    "\n",
    "\n",
    "Given the array nums consisting of 2n elements in the form [x1,x2,...,xn,y1,y2,...,yn].\n",
    "\n",
    "Return the array in the form [x1,y1,x2,y2,...,xn,yn].\n",
    "\n",
    "```\n",
    "Input: nums = [2,5,1,3,4,7], n = 3\n",
    "Output: [2,3,5,4,1,7] \n",
    "Explanation: Since x1=2, x2=5, x3=1, y1=3, y2=4, y3=7 then the answer is [2,3,5,4,1,7].\n",
    "```"
   ]
  },
  {
   "cell_type": "code",
   "execution_count": 27,
   "metadata": {},
   "outputs": [
    {
     "data": {
      "text/plain": [
       "[2, 3, 5, 4, 1, 7]"
      ]
     },
     "execution_count": 27,
     "metadata": {},
     "output_type": "execute_result"
    }
   ],
   "source": [
    "_shuffle([2,5,1,3,4,7],n=3)"
   ]
  },
  {
   "cell_type": "markdown",
   "metadata": {},
   "source": [
    "## Number of Good Pairs\n",
    "\n",
    "Link: https://leetcode.com/problems/number-of-good-pairs/\n",
    "\n",
    "Given an array of integers nums. A pair (i,j) is called good if nums[i] == nums[j] and i < j.\n",
    "\n",
    "Return the number of good pairs.\n",
    "\n",
    "```\n",
    "Input: nums = [1,2,3,1,1,3]\n",
    "Output: 4\n",
    "Explanation: There are 4 good pairs (0,3), (0,4), (3,4), (2,5) 0-indexed.\n",
    "```\n",
    " "
   ]
  },
  {
   "cell_type": "code",
   "execution_count": 16,
   "metadata": {},
   "outputs": [
    {
     "data": {
      "text/plain": [
       "4"
      ]
     },
     "execution_count": 16,
     "metadata": {},
     "output_type": "execute_result"
    }
   ],
   "source": [
    "numIdenticalPairs([1,2,3,1,1,3])"
   ]
  },
  {
   "cell_type": "markdown",
   "metadata": {},
   "source": [
    "**How Many Numbers Are Smaller Than the Current Number**\n",
    "\n",
    "Given the array nums, for each nums[i] find out how many numbers in the array are smaller than it. That is, for each nums[i] you have to count the number of valid j's such that j != i and nums[j] < nums[i].\n",
    "\n",
    "Return the answer in an array.\n",
    "\n",
    "```\n",
    "Input: nums = [8,1,2,2,3]\n",
    "Output: [4,0,1,1,3]\n",
    "Explanation: \n",
    "For nums[0]=8 there exist four smaller numbers than it (1, 2, 2 and 3). \n",
    "For nums[1]=1 does not exist any smaller number than it.\n",
    "For nums[2]=2 there exist one smaller number than it (1). \n",
    "For nums[3]=2 there exist one smaller number than it (1). \n",
    "For nums[4]=3 there exist three smaller numbers than it (1, 2 and 2).\n",
    "```"
   ]
  },
  {
   "cell_type": "code",
   "execution_count": 17,
   "metadata": {},
   "outputs": [
    {
     "data": {
      "text/plain": [
       "[4, 0, 1, 1, 3]"
      ]
     },
     "execution_count": 17,
     "metadata": {},
     "output_type": "execute_result"
    }
   ],
   "source": [
    "smallerNumbersThanCurrent([8,1,2,2,3])"
   ]
  },
  {
   "cell_type": "markdown",
   "metadata": {},
   "source": [
    "## Final Prices With a Special Discount in a Shop\n",
    "\n",
    "Link: https://leetcode.com/problems/final-prices-with-a-special-discount-in-a-shop/\n",
    "\n",
    "Given the array prices where prices[i] is the price of the ith item in a shop. There is a special discount for items in the shop, if you buy the ith item, then you will receive a discount equivalent to prices[j] where j is the minimum index such that j > i and prices[j] <= prices[i], otherwise, you will not receive any discount at all.\n",
    "\n",
    "Return an array where the ith element is the final price you will pay for the ith item of the shop considering the special discount.\n",
    "\n",
    "\n",
    "```python\n",
    "Input: prices = [8,4,6,2,3]\n",
    "Output: [4,2,4,2,3]\n",
    "Explanation: \n",
    "For item 0 with price[0]=8 you will receive a discount equivalent to prices[1]=4, therefore, the final price you will pay is 8 - 4 = 4. \n",
    "For item 1 with price[1]=4 you will receive a discount equivalent to prices[3]=2, therefore, the final price you will pay is 4 - 2 = 2. \n",
    "For item 2 with price[2]=6 you will receive a discount equivalent to prices[3]=2, therefore, the final price you will pay is 6 - 2 = 4. \n",
    "For items 3 and 4 you will not receive any discount at all.\n",
    "```\n",
    "\n",
    "\n",
    "```python\n",
    "Input: prices = [1,2,3,4,5]\n",
    "Output: [1,2,3,4,5]\n",
    "Explanation: In this case, for all items, you will not receive any discount at all.\n",
    "```"
   ]
  },
  {
   "cell_type": "code",
   "execution_count": 18,
   "metadata": {},
   "outputs": [
    {
     "data": {
      "text/plain": [
       "[4, 2, 4, 2, 3]"
      ]
     },
     "execution_count": 18,
     "metadata": {},
     "output_type": "execute_result"
    }
   ],
   "source": [
    "prices = [8,4,6,2,3]\n",
    "finalPrices(prices)"
   ]
  },
  {
   "cell_type": "markdown",
   "metadata": {},
   "source": [
    "## Number of Students Doing Homework at a Given Time\n",
    "\n",
    "Link: https://leetcode.com/problems/number-of-students-doing-homework-at-a-given-time/\n",
    "\n",
    "Given two integer arrays startTime and endTime and given an integer queryTime.\n",
    "\n",
    "The ith student started doing their homework at the time startTime[i] and finished it at time endTime[i].\n",
    "\n",
    "Return the number of students doing their homework at time queryTime. More formally, return the number of students where queryTime lays in the interval [startTime[i], endTime[i]] inclusive.\n",
    "\n",
    "Example 1: \n",
    "\n",
    "```python\n",
    "Input: startTime = [1,2,3], endTime = [3,2,7], queryTime = 4\n",
    "Output: 1\n",
    "Explanation: We have 3 students where:\n",
    "The first student started doing homework at time 1 and finished at time 3 and wasn't doing anything at time 4.\n",
    "The second student started doing homework at time 2 and finished at time 2 and also wasn't doing anything at time 4.\n",
    "The third student started doing homework at time 3 and finished at time 7 and was the only student doing homework at time 4.\n",
    "```\n",
    "\n",
    "Example 2:\n",
    "```\n",
    "Input: startTime = [4], endTime = [4], queryTime = 4\n",
    "Output: 1\n",
    "Explanation: The only student was doing their homework at the queryTime.\n",
    "```"
   ]
  },
  {
   "cell_type": "code",
   "execution_count": 19,
   "metadata": {},
   "outputs": [
    {
     "data": {
      "text/plain": [
       "1"
      ]
     },
     "execution_count": 19,
     "metadata": {},
     "output_type": "execute_result"
    }
   ],
   "source": [
    "startTime = [1,2,3]\n",
    "endTime = [3,2,7]\n",
    "queryTime = 4\n",
    "\n",
    "busyStudent(startTime,endTime,queryTime)"
   ]
  },
  {
   "cell_type": "markdown",
   "metadata": {},
   "source": [
    "_____\n",
    "# Strings"
   ]
  },
  {
   "cell_type": "code",
   "execution_count": 20,
   "metadata": {},
   "outputs": [],
   "source": [
    "%autoreload\n",
    "from src.strings import *"
   ]
  },
  {
   "cell_type": "markdown",
   "metadata": {},
   "source": [
    "## Split a String in Balanced Strings\n",
    "\n",
    "Link: https://leetcode.com/problems/split-a-string-in-balanced-strings/\n",
    "\n",
    "Balanced strings are those who have equal quantity of 'L' and 'R' characters.\n",
    "\n",
    "Given a balanced string s split it in the maximum amount of balanced strings.\n",
    "\n",
    "Return the maximum amount of splitted balanced strings.\n",
    "\n",
    "**Example** \n",
    "```\n",
    "Input: s = \"RLRRLLRLRL\"\n",
    "Output: 4\n",
    "Explanation: s can be split into \"RL\", \"RRLL\", \"RL\", \"RL\", each substring contains same number of 'L' and 'R'.\n",
    "```"
   ]
  },
  {
   "cell_type": "code",
   "execution_count": 21,
   "metadata": {},
   "outputs": [
    {
     "data": {
      "text/plain": [
       "4"
      ]
     },
     "execution_count": 21,
     "metadata": {},
     "output_type": "execute_result"
    }
   ],
   "source": [
    "s = \"RLRRLLRLRL\"\n",
    "balancedStringSplit(s)"
   ]
  },
  {
   "cell_type": "markdown",
   "metadata": {},
   "source": [
    "## Destination City\n",
    "\n",
    "Link: https://leetcode.com/problems/destination-city/\n",
    "\n",
    "You are given the array paths, where paths[i] = [cityAi, cityBi] means there exists a direct path going from cityAi to cityBi. Return the destination city, that is, the city without any path outgoing to another city.\n",
    "\n",
    "It is guaranteed that the graph of paths forms a line without any loop, therefore, there will be exactly one destination city.\n",
    "\n",
    "Example 1\n",
    "```python\n",
    "Input: paths = [[\"London\",\"New York\"],[\"New York\",\"Lima\"],[\"Lima\",\"Sao Paulo\"]]\n",
    "Output: \"Sao Paulo\" \n",
    "Explanation: Starting at \"London\" city you will reach \"Sao Paulo\" city which is the destination city. Your trip consist of: \"London\" -> \"New York\" -> \"Lima\" -> \"Sao Paulo\".\n",
    "```\n",
    "\n",
    "Example 2\n",
    "```python\n",
    "Input: paths = [[\"B\",\"C\"],[\"D\",\"B\"],[\"C\",\"A\"]]\n",
    "Output: \"A\"\n",
    "Explanation: All possible trips are: \n",
    "\"D\" -> \"B\" -> \"C\" -> \"A\". \n",
    "\"B\" -> \"C\" -> \"A\". \n",
    "\"C\" -> \"A\". \n",
    "\"A\". \n",
    "Clearly the destination city is \"A\".\n",
    "```"
   ]
  },
  {
   "cell_type": "code",
   "execution_count": 23,
   "metadata": {},
   "outputs": [
    {
     "data": {
      "text/plain": [
       "'Sao Paulo'"
      ]
     },
     "execution_count": 23,
     "metadata": {},
     "output_type": "execute_result"
    }
   ],
   "source": [
    "paths = [[\"London\",\"New York\"],[\"New York\",\"Lima\"],[\"Lima\",\"Sao Paulo\"]]\n",
    "destCity(paths)"
   ]
  },
  {
   "cell_type": "markdown",
   "metadata": {},
   "source": [
    "## Reverse String\n",
    "\n",
    "Link: https://leetcode.com/problems/reverse-string/\n",
    "\n",
    "Write a function that reverses a string. The input string is given as an array of characters char[].\n",
    "\n",
    "Do not allocate extra space for another array, you must do this by modifying the input array in-place with O(1) extra memory.\n",
    "\n",
    "You may assume all the characters consist of printable ascii characters.\n",
    "\n",
    "```\n",
    "Input: [\"h\",\"e\",\"l\",\"l\",\"o\"]\n",
    "Output: [\"o\",\"l\",\"l\",\"e\",\"h\"]\n",
    "```"
   ]
  },
  {
   "cell_type": "code",
   "execution_count": 48,
   "metadata": {},
   "outputs": [
    {
     "data": {
      "text/plain": [
       "['o', 'l', 'l', 'e', 'h']"
      ]
     },
     "execution_count": 48,
     "metadata": {},
     "output_type": "execute_result"
    }
   ],
   "source": [
    "s = [\"h\",\"e\",\"l\",\"l\",\"o\"]\n",
    "reverseString(s)"
   ]
  },
  {
   "cell_type": "markdown",
   "metadata": {},
   "source": [
    "### First Unique Character in a String\n",
    "\n",
    "Link: https://leetcode.com/problems/first-unique-character-in-a-string/\n",
    "\n",
    "Given a string, find the first non-repeating character in it and return its index. If it doesn't exist, return -1.\n",
    "\n",
    "```\n",
    "s = \"leetcode\"\n",
    "return 0.\n",
    "````\n",
    "\n",
    "```\n",
    "s = \"loveleetcode\"\n",
    "return 2.\n",
    "```"
   ]
  },
  {
   "cell_type": "code",
   "execution_count": 62,
   "metadata": {},
   "outputs": [
    {
     "data": {
      "text/plain": [
       "2"
      ]
     },
     "execution_count": 62,
     "metadata": {},
     "output_type": "execute_result"
    }
   ],
   "source": [
    "s = 'loveleetcode'\n",
    "firstUniqChar(s)"
   ]
  },
  {
   "cell_type": "markdown",
   "metadata": {},
   "source": [
    "## Longest Substring Without Repeating Characters\n",
    "\n",
    "Link: https://leetcode.com/problems/longest-substring-without-repeating-characters/\n",
    "\n",
    "Given a string s, find the length of the longest substring without repeating characters.\n",
    "\n",
    " \n",
    "```\n",
    "Example 1:\n",
    "\n",
    "Input: s = \"abcabcbb\"\n",
    "Output: 3\n",
    "Explanation: The answer is \"abc\", with the length of 3.\n",
    "```\n",
    "\n",
    "```\n",
    "Example 2:\n",
    "\n",
    "Input: s = \"bbbbb\"\n",
    "Output: 1\n",
    "Explanation: The answer is \"b\", with the length of 1.\n",
    "```\n",
    "\n",
    "```\n",
    "Example 3:\n",
    "\n",
    "Input: s = \"pwwkew\"\n",
    "Output: 3\n",
    "Explanation: The answer is \"wke\", with the length of 3.\n",
    "Notice that the answer must be a substring, \"pwke\" is a subsequence and not a substring.\n",
    "```\n",
    "\n",
    "```\n",
    "Example 4:\n",
    "\n",
    "Input: s = \"\"\n",
    "Output: 0\n",
    "```"
   ]
  },
  {
   "cell_type": "code",
   "execution_count": 120,
   "metadata": {},
   "outputs": [],
   "source": [
    "#ToDo"
   ]
  },
  {
   "cell_type": "markdown",
   "metadata": {},
   "source": [
    "____\n",
    "# Sort"
   ]
  },
  {
   "cell_type": "code",
   "execution_count": 53,
   "metadata": {},
   "outputs": [],
   "source": [
    "%autoreload\n",
    "from src.sort import *"
   ]
  },
  {
   "cell_type": "markdown",
   "metadata": {},
   "source": [
    "## Sort Array\n",
    "\n",
    "Link: https://leetcode.com/problems/sort-an-array/\n",
    "        \n",
    "Given an array of integers nums, sort the array in ascending order.\n",
    "\n",
    "**Example**\n",
    "```\n",
    "Input: nums = [5,2,3,1]\n",
    "Output: [1,2,3,5]\n",
    "```\n",
    "\n",
    "### Explanation \n",
    "\n",
    "For this problem, we will implement, `Quicksort`. The performance will depend upon the position of the pivot with worse case O(n2) and best case being O(n log n).\n",
    "\n",
    "![](images/quicksort.png)\n",
    "\n",
    "[Reference](https://www.youtube.com/watch?v=uXBnyYuwPe8)\n",
    "[Reference](https://www.youtube.com/watch?v=CB_NCoxzQnk)"
   ]
  },
  {
   "cell_type": "code",
   "execution_count": 54,
   "metadata": {},
   "outputs": [
    {
     "name": "stdout",
     "output_type": "stream",
     "text": [
      "[1, 2, 3, 5]\n"
     ]
    }
   ],
   "source": [
    "n=[5,2,3,1]\n",
    "q = QuickSort().sort(n)\n",
    "print(q)"
   ]
  },
  {
   "cell_type": "markdown",
   "metadata": {},
   "source": [
    "## Sorrting Colors\n",
    "\n",
    "Link: https://leetcode.com/problems/sort-colors/\n",
    "        \n",
    "Given an array nums with n objects colored red, white, or blue, sort them in-place so that objects of the same color are adjacent, with the colors in the order red, white, and blue.\n",
    "\n",
    "Here, we will use the integers 0, 1, and 2 to represent the color red, white, and blue respectively.\n",
    "\n",
    "Follow up:\n",
    "\n",
    "Could you solve this problem without using the library's sort function?\n",
    "Could you come up with a one-pass algorithm using only O(1) constant space?\n",
    " \n",
    "**Examples**\n",
    "\n",
    "```\n",
    "Input: nums = [2,0,2,1,1,0]\n",
    "Output: [0,0,1,1,2,2]\n",
    "```\n",
    "\n",
    "```\n",
    "Input: nums = [2,0,1]\n",
    "Output: [0,1,2]\n",
    "```\n",
    "\n",
    "```\n",
    "Input: nums = [0]\n",
    "Output: [0]\n",
    "```"
   ]
  },
  {
   "cell_type": "code",
   "execution_count": 29,
   "metadata": {},
   "outputs": [
    {
     "data": {
      "text/plain": [
       "[0, 0, 1, 1, 2, 2]"
      ]
     },
     "execution_count": 29,
     "metadata": {},
     "output_type": "execute_result"
    }
   ],
   "source": [
    "%autoreload\n",
    "nums = [2,0,2,1,1,0]\n",
    "sortColors(nums)"
   ]
  },
  {
   "cell_type": "markdown",
   "metadata": {},
   "source": [
    "## Shuffle String\n",
    "\n",
    "Given a string s and an integer array indices of the same length.\n",
    "\n",
    "The string s will be shuffled such that the character at the ith position moves to indices[i] in the shuffled string.\n",
    "\n",
    "Return the shuffled string.\n",
    "\n",
    "\n",
    "**Example**\n",
    "\n",
    "```python\n",
    "Input: s = \"codeleet\", indices = [4,5,6,7,0,2,1,3]\n",
    "Output: \"leetcode\"\n",
    "Explanation: As shown, \"codeleet\" becomes \"leetcode\" after shuffling.\n",
    "```\n",
    "\n",
    "```python\n",
    "Input: s = \"abc\", indices = [0,1,2]\n",
    "Output: \"abc\"\n",
    "Explanation: After shuffling, each character remains in its position.\n",
    "```"
   ]
  },
  {
   "cell_type": "code",
   "execution_count": 30,
   "metadata": {},
   "outputs": [
    {
     "data": {
      "text/plain": [
       "'nihao'"
      ]
     },
     "execution_count": 30,
     "metadata": {},
     "output_type": "execute_result"
    }
   ],
   "source": [
    "restoreString(\"aiohn\",[3,1,4,2,0])"
   ]
  },
  {
   "cell_type": "markdown",
   "metadata": {},
   "source": [
    "____\n",
    "# Hashmap"
   ]
  },
  {
   "cell_type": "code",
   "execution_count": 31,
   "metadata": {},
   "outputs": [],
   "source": [
    "%autoreload\n",
    "from src.hash import HashMap"
   ]
  },
  {
   "cell_type": "markdown",
   "metadata": {},
   "source": [
    "## Design HashMap\n",
    "\n",
    "Link: https://leetcode.com/problems/design-hashmap/\n",
    "\n",
    "Design a HashMap without using any built-in hash table libraries.\n",
    "\n",
    "To be specific, your design should include these functions:\n",
    "\n",
    "put(key, value) : Insert a (key, value) pair into the HashMap. If the value already exists in the HashMap, update the value.\n",
    "get(key): Returns the value to which the specified key is mapped, or -1 if this map contains no mapping for the key.\n",
    "remove(key) : Remove the mapping for the value key if this map contains the mapping for the key.\n",
    "\n",
    "\n",
    "**Example**\n",
    "```\n",
    "MyHashMap hashMap = new MyHashMap();\n",
    "hashMap.put(1, 1);          \n",
    "hashMap.put(2, 2);         \n",
    "hashMap.get(1);            // returns 1\n",
    "hashMap.get(3);            // returns -1 (not found)\n",
    "hashMap.put(2, 1);         // update the existing value\n",
    "hashMap.get(2);            // returns 1 \n",
    "hashMap.remove(2);         // remove the mapping for 2\n",
    "hashMap.get(2);            // returns -1 (not found) \n",
    "```\n",
    "\n",
    "- All keys and values will be in the range of [0, 1000000].\n",
    "- The number of operations will be in the range of [1, 10000].\n",
    "- Please do not use the built-in HashMap library."
   ]
  },
  {
   "cell_type": "code",
   "execution_count": 32,
   "metadata": {},
   "outputs": [],
   "source": [
    "hashMap = HashMap()\n",
    "hashMap.put(1, 1)      \n",
    "hashMap.put(2, 2)         \n",
    "hashMap.get(1)          \n",
    "hashMap.get(3)           \n",
    "hashMap.put(2, 1);         \n",
    "hashMap.get(2);            \n",
    "hashMap.remove(2);         \n",
    "hashMap.get(2);"
   ]
  },
  {
   "cell_type": "code",
   "execution_count": 33,
   "metadata": {},
   "outputs": [
    {
     "data": {
      "text/plain": [
       "-1"
      ]
     },
     "execution_count": 33,
     "metadata": {},
     "output_type": "execute_result"
    }
   ],
   "source": [
    "hashMap.get(2)"
   ]
  },
  {
   "cell_type": "markdown",
   "metadata": {},
   "source": [
    "____\n",
    "# Matrix"
   ]
  },
  {
   "cell_type": "code",
   "execution_count": 34,
   "metadata": {},
   "outputs": [],
   "source": [
    "%autoreload\n",
    "from src.matrix import *"
   ]
  },
  {
   "cell_type": "markdown",
   "metadata": {},
   "source": [
    "## Count Negative Numbers in a Sorted Matrix\n",
    "\n",
    "Link: https://leetcode.com/problems/count-negative-numbers-in-a-sorted-matrix/\n",
    "\n",
    "Given a m * n matrix grid which is sorted in non-increasing order both row-wise and column-wise. \n",
    "\n",
    "Return the number of negative numbers in grid.\n",
    "\n",
    "\n",
    "**Example**\n",
    "\n",
    "```\n",
    "Input: grid = [[4,3,2,-1],[3,2,1,-1],[1,1,-1,-2],[-1,-1,-2,-3]]\n",
    "Output: 8\n",
    "```"
   ]
  },
  {
   "cell_type": "code",
   "execution_count": 35,
   "metadata": {},
   "outputs": [
    {
     "data": {
      "text/plain": [
       "8"
      ]
     },
     "execution_count": 35,
     "metadata": {},
     "output_type": "execute_result"
    }
   ],
   "source": [
    "%autoreload\n",
    "sample = [[4,3,2,-1],[3,2,1,-1],[1,1,-1,-2],[-1,-1,-2,-3]]\n",
    "countNegatives(sample)"
   ]
  },
  {
   "cell_type": "markdown",
   "metadata": {},
   "source": [
    "_______\n",
    "# LinkedList"
   ]
  },
  {
   "cell_type": "code",
   "execution_count": 38,
   "metadata": {},
   "outputs": [],
   "source": [
    "%autoreload\n",
    "from src.linkedlist import *"
   ]
  },
  {
   "cell_type": "markdown",
   "metadata": {},
   "source": [
    "## Merge Two Sorted Lists\n",
    "\n",
    "Link: https://leetcode.com/problems/merge-two-sorted-lists/\n",
    "\n",
    "Merge two sorted linked lists and return it as a new sorted list. The new list should be made by splicing together the nodes of the first two lists.\n",
    "\n",
    "**Example:**\n",
    "```\n",
    "Input: \n",
    "l1 = [1,2,4]\n",
    "l2 = [1,3,4]\n",
    "Output: \n",
    "results = [1,1,2,3,4,4]\n",
    "```"
   ]
  },
  {
   "cell_type": "markdown",
   "metadata": {},
   "source": [
    "### Example\n",
    "\n",
    "- List_1 = [1,3,5,10,15]\n",
    "- List_2 = [-1,2,3,4]\n",
    "\n",
    "- Output = [-1,1,2,3,3,4,5,10,15]"
   ]
  },
  {
   "cell_type": "code",
   "execution_count": 40,
   "metadata": {},
   "outputs": [
    {
     "name": "stdout",
     "output_type": "stream",
     "text": [
      "None\n"
     ]
    }
   ],
   "source": [
    "!python -m src.linkedlist "
   ]
  }
 ],
 "metadata": {
  "kernelspec": {
   "display_name": "Python 3",
   "language": "python",
   "name": "python3"
  },
  "language_info": {
   "codemirror_mode": {
    "name": "ipython",
    "version": 3
   },
   "file_extension": ".py",
   "mimetype": "text/x-python",
   "name": "python",
   "nbconvert_exporter": "python",
   "pygments_lexer": "ipython3",
   "version": "3.7.3"
  }
 },
 "nbformat": 4,
 "nbformat_minor": 4
}
