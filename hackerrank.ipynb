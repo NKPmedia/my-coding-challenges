{
 "cells": [
  {
   "cell_type": "markdown",
   "metadata": {},
   "source": [
    "# HackerRank Coding Problems\n",
    "_________"
   ]
  },
  {
   "cell_type": "markdown",
   "metadata": {},
   "source": [
    "## Recursion\n",
    "\n",
    "### Fibonacci\n",
    "Write a function fibonacci(n) that computes the Fibonacci number $F_n$, where $F_n$ is defined by the recurrence relation:\n",
    "\n",
    "$$ F_n = F_{n-1} + F_{n-2}$$\n",
    "with initial conditions of:\n",
    "$$ F_1 = 1,  F_2 = 1$$\n",
    "\n",
    "**Example**\n",
    "```\n",
    "f = 5\n",
    "fib(1) => 1 == 1\n",
    "fib(2) => fib(1) + fib(0) == 1\n",
    "fib(3) => fib(2) + fib(1) => fib(1) + fib(0) + fib(1) == 2\n",
    "fib(4) => fib(3) + fib(2) => fib(2) + fib(1) + fib(1) + fib(0) => fib(1) + fib(0) + fib(1) + fib(1) + fib(0) == 3\n",
    "fib(5) => fib(4) + fib(3) => fib(3) + fib(2) + fib(2) + fib(1) => fib(2) + fib(1) + fib(1) + fib(0) + fib(1) + fib(0) + fib(1) => fib(1) + fib(0) + fib(1) + fib(1) + fib(0) + fib(1) + fib(0) + fib(1) == 5\n",
    "```"
   ]
  },
  {
   "cell_type": "code",
   "execution_count": 2,
   "metadata": {},
   "outputs": [
    {
     "name": "stdout",
     "output_type": "stream",
     "text": [
      "1\n",
      "1\n",
      "2\n",
      "3\n",
      "5\n"
     ]
    }
   ],
   "source": [
    "from functools import lru_cache\n",
    "\n",
    "@lru_cache(maxsize=1000)\n",
    "def fibonacci(n:int):\n",
    "    if n==0:\n",
    "        return 0\n",
    "    elif n==1:\n",
    "        return n\n",
    "    else:\n",
    "        return fibonacci(n-1)+fibonacci(n-2)\n",
    "    \n",
    "if __name__ == '__main__':\n",
    "    n = 5\n",
    "    for i in range(1,n+1):\n",
    "        print(fibonacci(i))"
   ]
  },
  {
   "cell_type": "markdown",
   "metadata": {},
   "source": [
    "### Factorial\n",
    "\n",
    "Find the factorial of an integer. Recall, factorial of a number is the product of all the integers from 1 to that number. For example, the factorial of 5 (denoted as 6!) is 1 * 2 * 3 * 4 * 5  = 120."
   ]
  },
  {
   "cell_type": "code",
   "execution_count": 37,
   "metadata": {},
   "outputs": [
    {
     "name": "stdout",
     "output_type": "stream",
     "text": [
      "Factorial: 5 ==> 5 * 4 * 3 * 2 * 1 = 120\n"
     ]
    }
   ],
   "source": [
    "from functools import lru_cache\n",
    "\n",
    "@lru_cache(maxsize=1000)\n",
    "def factorial(n:int):\n",
    "    if n==0:\n",
    "        return 0\n",
    "    elif n==1:\n",
    "        return n\n",
    "    else:\n",
    "        return n * factorial(n-1)\n",
    "    \n",
    "if __name__ == '__main__':\n",
    "    n = 5\n",
    "    results = [(factorial(i)) for i in range(1,n+1)]\n",
    "    print(f'Factorial: {n} ==> ' + ' * '.join([str(i) for i in range(n,0,-1)]) + \" = \" +  str(results[-1]))"
   ]
  },
  {
   "cell_type": "markdown",
   "metadata": {},
   "source": [
    "## Strings\n",
    "_________"
   ]
  },
  {
   "cell_type": "markdown",
   "metadata": {},
   "source": [
    "### FizzBuzz\n",
    "\n",
    "Write a program that, given a number n, print out all numbers from 1 to n (inclusive) each on their own line. But there's a catch:\n",
    "\n",
    "- For numbers divisible by 3, instead of n, print Fizz\n",
    "- For numbers divisible by 5, instead of n, print Buzz\n",
    "- For numbers divisible by 3 and 5, just print FizzBuzz\n",
    "- For example, given the input 1, your program should output:"
   ]
  },
  {
   "cell_type": "code",
   "execution_count": 70,
   "metadata": {},
   "outputs": [
    {
     "name": "stdout",
     "output_type": "stream",
     "text": [
      "1\n",
      "2\n",
      "Fizz\n",
      "4\n",
      "Buzz\n",
      "Fizz\n",
      "7\n",
      "8\n",
      "Fizz\n",
      "Buzz\n",
      "11\n",
      "Fizz\n",
      "13\n",
      "14\n",
      "FizzBuzz\n"
     ]
    }
   ],
   "source": [
    "def fizzbuzz(n):\n",
    "    \"\"\" FizzBuzz String Example\"\"\"\n",
    "    if ((n % 3) == 0) and ((n % 5) == 0):\n",
    "        return 'FizzBuzz'\n",
    "    elif n % 3 == 0:\n",
    "        return 'Fizz'\n",
    "    elif n % 5 == 0:\n",
    "        return 'Buzz'\n",
    "    else:\n",
    "        return n\n",
    "\n",
    "n = 15\n",
    "for i in range(1,n+1):\n",
    "    print(fizzbuzz(i))"
   ]
  },
  {
   "cell_type": "markdown",
   "metadata": {},
   "source": [
    "### Valid Strings\n",
    "Given a string s containing just the characters '(', ')', '{', '}', '[' and ']', determine if the input string is valid.\n",
    "\n",
    "An input string is valid if:\n",
    "\n",
    "- Open brackets must be closed by the same type of brackets.\n",
    "- Open brackets must be closed in the correct order."
   ]
  },
  {
   "cell_type": "code",
   "execution_count": 129,
   "metadata": {},
   "outputs": [
    {
     "data": {
      "text/plain": [
       "True"
      ]
     },
     "execution_count": 129,
     "metadata": {},
     "output_type": "execute_result"
    }
   ],
   "source": [
    "def valid_string(string):\n",
    "    mapping = {')':'(',']':'[','}':'{'}\n",
    "    stack = []\n",
    "    \n",
    "    for s in string:\n",
    "        if s in mapping and mapping[s] in stack:\n",
    "            stack.remove(mapping[s])\n",
    "        else:\n",
    "            stack.append(s)\n",
    "    if stack:\n",
    "        return False\n",
    "    else: \n",
    "        return True\n",
    "        \n",
    "string = '([{}])'\n",
    "valid_string(string)"
   ]
  },
  {
   "cell_type": "markdown",
   "metadata": {},
   "source": [
    "## Arrays"
   ]
  },
  {
   "cell_type": "markdown",
   "metadata": {},
   "source": [
    "### Rotations\n",
    "\n",
    "- A left rotation operation on an array shifts each of the array's elements 1 unit to the left. For example, if 2 left rotations are performed on array [1,2,3,4,5], then the array would become [3,4,5,1,2]. Note that the lowest index item moves to the highest index in a rotation. This is called a circular array."
   ]
  },
  {
   "cell_type": "code",
   "execution_count": 44,
   "metadata": {},
   "outputs": [
    {
     "data": {
      "text/plain": [
       "[3, 4, 5, 1, 2]"
      ]
     },
     "execution_count": 44,
     "metadata": {},
     "output_type": "execute_result"
    }
   ],
   "source": [
    "def rotate(l, n):\n",
    "    return l[n:] + l[:n]\n",
    "\n",
    "rotate([1,2,3,4,5],2)"
   ]
  },
  {
   "cell_type": "markdown",
   "metadata": {},
   "source": [
    "### Minimum Rotations\n",
    "\n",
    "You are given an unordered array consisting of consecutive integers  [1, 2, 3, ..., n] without any duplicates. You are allowed to swap any two elements. You need to find the minimum number of swaps required to sort the array in ascending order.\n",
    "\n",
    "For example, given the array [7, 1, 3, 2, 4, 5, 6], we perform the following steps:\n",
    "\n"
   ]
  },
  {
   "cell_type": "code",
   "execution_count": 50,
   "metadata": {},
   "outputs": [
    {
     "data": {
      "text/plain": [
       "3"
      ]
     },
     "execution_count": 50,
     "metadata": {},
     "output_type": "execute_result"
    }
   ],
   "source": [
    "def minimumSwaps(x):\n",
    "    min_num_swaps = 0; \n",
    "    i = 0; \n",
    "    while (i < len(x)):  \n",
    "        # check to see element == index\n",
    "        if (x[i] != i + 1): \n",
    "            # if not perform swap and increment\n",
    "            while (x[i] != i + 1): \n",
    "                temp = x[x[i] - 1]\n",
    "                x[x[i] - 1] = x[i]\n",
    "                x[i] = temp\n",
    "                min_num_swaps += 1\n",
    "        i += 1; \n",
    "    return min_num_swaps;\n",
    "\n",
    "x = [4,3,1,2]\n",
    "minimumSwaps(x)"
   ]
  },
  {
   "cell_type": "markdown",
   "metadata": {},
   "source": [
    "_______\n",
    "## Probability"
   ]
  },
  {
   "cell_type": "markdown",
   "metadata": {},
   "source": [
    "### Estimate Pi\n",
    "\n",
    "Given a uniform random generator $[0,1]$, write a a function compute_pi to compute $\\pi$."
   ]
  },
  {
   "cell_type": "code",
   "execution_count": null,
   "metadata": {},
   "outputs": [],
   "source": [
    "import numpy as np\n",
    "from typing import List\n",
    "\n",
    "def compute_pi(n: List[int]):\n",
    "    \"\"\" Compute pi\"\"\"\n",
    "    \n",
    "    # create random points bounded in \n",
    "    coords = [(np.random.choice(n),np.random.choice(n)) for _ in range(len(n))]\n",
    "    radius = [np.sqrt(i**2 + j**2) for i,j in coords]\n",
    "    \n",
    "    # compute pi\n",
    "    pi = 4 * (len([i for i in radius if i <= 1]) / len(n)) \n",
    "    return pi\n",
    "    \n",
    "if __name__ == '__main__':\n",
    "    \n",
    "    size = 100000\n",
    "    sample = np.random.uniform(0,1,size=size)\n",
    "    pi = compute_pi(sample)\n",
    "    print(f'Sample Size: {size} -- Pi: {pi}')"
   ]
  }
 ],
 "metadata": {
  "kernelspec": {
   "display_name": "ml",
   "language": "python",
   "name": "other-env"
  },
  "language_info": {
   "codemirror_mode": {
    "name": "ipython",
    "version": 3
   },
   "file_extension": ".py",
   "mimetype": "text/x-python",
   "name": "python",
   "nbconvert_exporter": "python",
   "pygments_lexer": "ipython3",
   "version": "3.8.0"
  }
 },
 "nbformat": 4,
 "nbformat_minor": 4
}
